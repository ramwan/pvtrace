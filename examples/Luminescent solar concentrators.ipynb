{
 "cells": [
  {
   "cell_type": "code",
   "execution_count": 20,
   "metadata": {},
   "outputs": [
    {
     "name": "stderr",
     "output_type": "stream",
     "text": [
      "DEBUG:matplotlib.pyplot:Loaded backend module://ipykernel.pylab.backend_inline version unknown.\n"
     ]
    }
   ],
   "source": [
    "from pvtrace import *\n",
    "# Some packages used by pvtrace are a little noisy\n",
    "logging.getLogger('trimesh').disabled = True\n",
    "logging.getLogger('shapely.geos').disabled = True\n",
    "logging.getLogger('numpy').disabled = True\n",
    "logging.getLogger('matplotlib').disabled = True\n",
    "import numpy as np\n",
    "import matplotlib.pyplot as plt\n",
    "%matplotlib inline"
   ]
  },
  {
   "cell_type": "markdown",
   "metadata": {},
   "source": [
    "# Ray-tracing simulations of luminescent solar concentrators\n",
    "\n",
    "*pvtrace* has been validated against other simulations codes of luminescent solar concentrators (LSCs),\n",
    "\n",
    "![](Validation.png \"pvtrace comparison with other simulation codes\")\n",
    "\n",
    "It includes a high-level API specifically for simulating these devices.\n",
    "\n",
    "## LSC without solar cells\n",
    "\n",
    "The following code simulates a LSC with the following properies:\n",
    "\n",
    "- bare plate without solar cells\n",
    "- refractive index 1.5 (default)\n",
    "- contains Lumogen F Red 305 (default)\n",
    "- assumes 0.02 cm-1 background absorption coefficient (default)\n",
    "- spotlight illumination on top surface with 555nm monochromatic light (default)"
   ]
  },
  {
   "cell_type": "code",
   "execution_count": 1,
   "metadata": {},
   "outputs": [
    {
     "ename": "NameError",
     "evalue": "name 'LSC' is not defined",
     "output_type": "error",
     "traceback": [
      "\u001b[0;31m---------------------------------------------------------------------------\u001b[0m",
      "\u001b[0;31mNameError\u001b[0m                                 Traceback (most recent call last)",
      "\u001b[0;32m<ipython-input-1-3dd19be6f838>\u001b[0m in \u001b[0;36m<module>\u001b[0;34m\u001b[0m\n\u001b[0;32m----> 1\u001b[0;31m \u001b[0mlsc\u001b[0m \u001b[0;34m=\u001b[0m \u001b[0mLSC\u001b[0m\u001b[0;34m(\u001b[0m\u001b[0;34m(\u001b[0m\u001b[0;36m5.0\u001b[0m\u001b[0;34m,\u001b[0m \u001b[0;36m5.0\u001b[0m\u001b[0;34m,\u001b[0m \u001b[0;36m1.0\u001b[0m\u001b[0;34m)\u001b[0m\u001b[0;34m)\u001b[0m  \u001b[0;31m# size in cm\u001b[0m\u001b[0;34m\u001b[0m\u001b[0;34m\u001b[0m\u001b[0m\n\u001b[0m\u001b[1;32m      2\u001b[0m \u001b[0mlsc\u001b[0m\u001b[0;34m.\u001b[0m\u001b[0mshow\u001b[0m\u001b[0;34m(\u001b[0m\u001b[0;34m)\u001b[0m  \u001b[0;31m# open visualiser\u001b[0m\u001b[0;34m\u001b[0m\u001b[0;34m\u001b[0m\u001b[0m\n\u001b[1;32m      3\u001b[0m \u001b[0mlsc\u001b[0m\u001b[0;34m.\u001b[0m\u001b[0m_renderer\u001b[0m\u001b[0;34m.\u001b[0m\u001b[0mvis\u001b[0m\u001b[0;34m.\u001b[0m\u001b[0mjupyter_cell\u001b[0m\u001b[0;34m(\u001b[0m\u001b[0;34m)\u001b[0m\u001b[0;34m\u001b[0m\u001b[0;34m\u001b[0m\u001b[0m\n",
      "\u001b[0;31mNameError\u001b[0m: name 'LSC' is not defined"
     ]
    }
   ],
   "source": [
    "lsc = LSC((5.0, 5.0, 1.0))  # size in cm\n",
    "lsc.show()  # open visualiser\n",
    "lsc._renderer.vis.jupyter_cell()"
   ]
  },
  {
   "cell_type": "code",
   "execution_count": 3,
   "metadata": {},
   "outputs": [
    {
     "name": "stdout",
     "output_type": "stream",
     "text": [
      "Tracing finished.\n",
      "Preparing results.\n",
      "\n",
      "Simulation Report\n",
      "-----------------\n",
      "\n",
      "Surface Counts:\n",
      "        Solar In  Solar Out  Luminescent Out  Luminescent In\n",
      "left           0          0               79               0\n",
      "right          0          0               82               0\n",
      "near           0          0               56               0\n",
      "far            0          0               60               0\n",
      "top         1000         40              204               0\n",
      "bottom         0          2              129               0\n",
      "\n",
      "Summary:\n",
      "Optical Efficiency                                                               0\n",
      "Waveguide Efficiency                                                             0\n",
      "Waveguide Efficiency (Thermodynamic Prediction)                           0.642857\n",
      "Non-radiative Loss (fraction):                                               0.348\n",
      "Incident                                                                      1000\n",
      "Geometric Concentration                                                       1.25\n",
      "Refractive Index                                                               1.5\n",
      "Cell Surfaces                                                                   {}\n",
      "Components                                         {Background, Lumogen F Red 305}\n",
      "Lights                                                                     {Light}\n",
      "dtype: object\n"
     ]
    }
   ],
   "source": [
    "lsc.simulate(1000)  # emit 100 rays\n",
    "lsc.report()        # print report"
   ]
  },
  {
   "cell_type": "markdown",
   "metadata": {},
   "source": [
    "## LSC with solar cells on edges\n",
    "\n",
    "Note, solar cells are not visualised in the renderer."
   ]
  },
  {
   "cell_type": "code",
   "execution_count": 7,
   "metadata": {},
   "outputs": [
    {
     "name": "stdout",
     "output_type": "stream",
     "text": [
      "You can open the visualizer by visiting the following URL:\n",
      "http://127.0.0.1:7002/static/\n"
     ]
    },
    {
     "data": {
      "text/html": [
       "\n",
       "<div style=\"height: 400px; width: 600px; overflow-x: auto; overflow-y: hidden; resize: both\">\n",
       "<iframe src=\"http://127.0.0.1:7002/static/\" style=\"width: 100%; height: 100%; border: none\"></iframe>\n",
       "</div>\n"
      ],
      "text/plain": [
       "<IPython.core.display.HTML object>"
      ]
     },
     "execution_count": 7,
     "metadata": {},
     "output_type": "execute_result"
    }
   ],
   "source": [
    "lsc = LSC((5.0, 5.0, 1.0))\n",
    "# Add solar cells to edge faces\n",
    "lsc.add_solar_cell({'left', 'right', 'near', 'far'})\n",
    "# NB solar cells are not rendered\n",
    "lsc.show()\n",
    "lsc._renderer.vis.jupyter_cell()"
   ]
  },
  {
   "cell_type": "code",
   "execution_count": 8,
   "metadata": {},
   "outputs": [
    {
     "name": "stdout",
     "output_type": "stream",
     "text": [
      "Tracing finished.\n",
      "Preparing results.\n",
      "\n",
      "Simulation Report\n",
      "-----------------\n",
      "\n",
      "Surface Counts:\n",
      "        Solar In  Solar Out  Luminescent Out  Luminescent In\n",
      "left           0          0               13               0\n",
      "right          0          0               11               0\n",
      "near           0          0               11               0\n",
      "far            0          0                9               0\n",
      "top          100          2               21               0\n",
      "bottom         0          0               10               0\n",
      "\n",
      "Summary:\n",
      "Optical Efficiency                                                            0.44\n",
      "Waveguide Efficiency                                                      0.586667\n",
      "Waveguide Efficiency (Thermodynamic Prediction)                           0.642857\n",
      "Non-radiative Loss (fraction):                                                0.23\n",
      "Incident                                                                       100\n",
      "Geometric Concentration                                                       1.25\n",
      "Refractive Index                                                               1.5\n",
      "Cell Surfaces                                             {left, far, near, right}\n",
      "Components                                         {Background, Lumogen F Red 305}\n",
      "Lights                                                                     {Light}\n",
      "dtype: object\n"
     ]
    }
   ],
   "source": [
    "lsc.simulate(100)\n",
    "lsc.report()"
   ]
  },
  {
   "cell_type": "markdown",
   "metadata": {},
   "source": [
    "## LSC with solar cells on edges and back surface reflector\n",
    "\n",
    "Note, solar cells and back surface reflector are not visualised in the renderer."
   ]
  },
  {
   "cell_type": "code",
   "execution_count": 10,
   "metadata": {},
   "outputs": [
    {
     "name": "stdout",
     "output_type": "stream",
     "text": [
      "You can open the visualizer by visiting the following URL:\n",
      "http://127.0.0.1:7004/static/\n"
     ]
    },
    {
     "data": {
      "text/html": [
       "\n",
       "<div style=\"height: 400px; width: 600px; overflow-x: auto; overflow-y: hidden; resize: both\">\n",
       "<iframe src=\"http://127.0.0.1:7004/static/\" style=\"width: 100%; height: 100%; border: none\"></iframe>\n",
       "</div>\n"
      ],
      "text/plain": [
       "<IPython.core.display.HTML object>"
      ]
     },
     "execution_count": 10,
     "metadata": {},
     "output_type": "execute_result"
    }
   ],
   "source": [
    "lsc = LSC((5.0, 5.0, 1.0))\n",
    "# Add solar cells to edge faces\n",
    "lsc.add_solar_cell({'left', 'right', 'near', 'far'})\n",
    "# Add a perfect metal mirrors to the bottom surface\n",
    "lsc.add_back_surface_mirror()\n",
    "# NB solar cells are not rendered\n",
    "lsc.show()\n",
    "lsc._renderer.vis.jupyter_cell()"
   ]
  },
  {
   "cell_type": "code",
   "execution_count": 11,
   "metadata": {},
   "outputs": [
    {
     "name": "stdout",
     "output_type": "stream",
     "text": [
      "Tracing finished.\n",
      "Preparing results.\n",
      "\n",
      "Simulation Report\n",
      "-----------------\n",
      "\n",
      "Surface Counts:\n",
      "        Solar In  Solar Out  Luminescent Out  Luminescent In\n",
      "left           0          0                9               0\n",
      "right          0          0                7               0\n",
      "near           0          0               10               0\n",
      "far            0          0                8               0\n",
      "top          100          2               37               0\n",
      "bottom         0          0                0               0\n",
      "\n",
      "Summary:\n",
      "Optical Efficiency                                                            0.34\n",
      "Waveguide Efficiency                                                      0.478873\n",
      "Waveguide Efficiency (Thermodynamic Prediction)                           0.642857\n",
      "Non-radiative Loss (fraction):                                                0.27\n",
      "Incident                                                                       100\n",
      "Geometric Concentration                                                       1.25\n",
      "Refractive Index                                                               1.5\n",
      "Cell Surfaces                                             {left, far, near, right}\n",
      "Components                                         {Background, Lumogen F Red 305}\n",
      "Lights                                                                     {Light}\n",
      "dtype: object\n"
     ]
    }
   ],
   "source": [
    "lsc.simulate(100)\n",
    "lsc.report()"
   ]
  },
  {
   "cell_type": "markdown",
   "metadata": {},
   "source": [
    "## LSC with custom ilumination spectrum and dye"
   ]
  },
  {
   "cell_type": "code",
   "execution_count": 22,
   "metadata": {},
   "outputs": [
    {
     "name": "stdout",
     "output_type": "stream",
     "text": [
      "You can open the visualizer by visiting the following URL:\n",
      "http://127.0.0.1:7006/static/\n"
     ]
    },
    {
     "data": {
      "text/html": [
       "\n",
       "<div style=\"height: 400px; width: 600px; overflow-x: auto; overflow-y: hidden; resize: both\">\n",
       "<iframe src=\"http://127.0.0.1:7006/static/\" style=\"width: 100%; height: 100%; border: none\"></iframe>\n",
       "</div>\n"
      ],
      "text/plain": [
       "<IPython.core.display.HTML object>"
      ]
     },
     "execution_count": 22,
     "metadata": {},
     "output_type": "execute_result"
    }
   ],
   "source": [
    "# Simulation wavelength range\n",
    "x = np.arange(400, 801, dtype=np.float)\n",
    "\n",
    "# LSC plate size\n",
    "size = (l, w, d) = (4.8, 1.8, 0.250)  # cm\n",
    "\n",
    "# Make LSC model\n",
    "lsc = LSC(size, wavelength_range=x)\n",
    "\n",
    "# Use Fluro Red dye with peak absorption coefficient 11.39 cm-1\n",
    "lsc.add_luminophore(\n",
    "    'Fluro Red',\n",
    "    np.column_stack((x, fluro_red.absorption(x) * 11.387815)),  # cm-1\n",
    "    np.column_stack((x, fluro_red.emission(x))),\n",
    "    quantum_yield=0.95\n",
    ")\n",
    "\n",
    "# Include constant background absorption coefficient of 0.02 cm-1\n",
    "lsc.add_absorber(\n",
    "    'PMMA',\n",
    "    0.02 # cm-1\n",
    ")\n",
    "\n",
    "# This function returns an approximation of the lamp spectrum used in the experiment\n",
    "def lamp_spectrum(x):\n",
    "    \"\"\" Fit to an experimentally measured lamp spectrum with long wavelength filter.\n",
    "    \"\"\"\n",
    "    def g(x, a, p, w):\n",
    "        return a * np.exp(-(((p - x) / w)**2 ))\n",
    "    a1 = 0.53025700136646192\n",
    "    p1 = 512.91400020614333\n",
    "    w1 = 93.491838802960473\n",
    "    a2 = 0.63578999789955015\n",
    "    p2 = 577.63100003089369\n",
    "    w2 = 66.031706473985736\n",
    "    return g(x, a1, p1, w1) + g(x, a2, p2, w2)\n",
    "\n",
    "# Add a custon light\n",
    "lamp_dist = Distribution(x, lamp_spectrum(x))\n",
    "wavelength_callable = lambda : lamp_dist.sample(np.random.uniform())\n",
    "position_callable = lambda : rectangular_mask(l/2, w/2)\n",
    "lsc.add_light(\n",
    "    \"Oriel Lamp + Filter\",\n",
    "    (0.0, 0.0, 0.5 * d + 0.01),  # put close to top surface\n",
    "    rotation=(np.radians(180), (1, 0, 0)),  # normal and into the top surface\n",
    "    wavelength=wavelength_callable,  # wavelength delegate callable\n",
    "    position=position_callable  # uniform surface illumination\n",
    ")\n",
    "\n",
    "lsc.show()  # makes things a bit slow\n",
    "lsc._renderer.vis.jupyter_cell()"
   ]
  },
  {
   "cell_type": "code",
   "execution_count": 23,
   "metadata": {},
   "outputs": [
    {
     "name": "stdout",
     "output_type": "stream",
     "text": [
      "Tracing finished.\n",
      "Preparing results.\n",
      "\n",
      "Simulation Report\n",
      "-----------------\n",
      "\n",
      "Surface Counts:\n",
      "        Solar In  Solar Out  Luminescent Out  Luminescent In\n",
      "left           0          0               11               0\n",
      "right          0          0               12               0\n",
      "near           0          0               13               0\n",
      "far            0          0               19               0\n",
      "top          250         14               17               0\n",
      "bottom         0        115               23               0\n",
      "\n",
      "Summary:\n",
      "Optical Efficiency                                                     0\n",
      "Waveguide Efficiency                                                   0\n",
      "Waveguide Efficiency (Thermodynamic Prediction)                 0.462185\n",
      "Non-radiative Loss (fraction):                                     0.104\n",
      "Incident                                                             250\n",
      "Geometric Concentration                                          2.61818\n",
      "Refractive Index                                                     1.5\n",
      "Cell Surfaces                                                         {}\n",
      "Components                                             {PMMA, Fluro Red}\n",
      "Lights                                             {Oriel Lamp + Filter}\n",
      "dtype: object\n"
     ]
    },
    {
     "data": {
      "image/png": "[encoded data removed]",
      "text/plain": [
       "<Figure size 432x288 with 1 Axes>"
      ]
     },
     "metadata": {
      "needs_background": "light"
     },
     "output_type": "display_data"
    }
   ],
   "source": [
    "lsc.simulate(250)\n",
    "lsc.report()\n",
    "\n",
    "# Get luminescent wavelengths from edge\n",
    "edge = lsc.spectrum(facets={'left', 'right', 'near', 'far'}, source={'Fluro Red'})\n",
    "\n",
    "# Get luminescent wavelengths from top and bottom\n",
    "escape = lsc.spectrum(facets={'top', 'bottom'}, source={'Fluro Red'})\n",
    "\n",
    "# Get incident wavelengths into top surface\n",
    "lost = lsc.spectrum(facets={'top'}, source=\"Oriel Lamp + Filter\", kind='first')\n",
    "\n",
    "\n",
    "plt.hist(edge, bins=np.arange(400, 800, 5), label=\"edge\", histtype='step')\n",
    "plt.hist(escape, bins=np.arange(400, 800, 5), label=\"escape\",  histtype='step')\n",
    "plt.hist(lost, bins=np.arange(400, 800, 5), label=\"lost\",  histtype='step')\n",
    "plt.xlabel('Wavelength (nm)')\n",
    "plt.ylabel('#')\n",
    "plt.title(\"Surface ray counts\")\n",
    "plt.grid(linestyle=\"dashed\")\n",
    "plt.show()"
   ]
  }
 ],
 "metadata": {
  "kernelspec": {
   "display_name": "Python 3",
   "language": "python",
   "name": "python3"
  },
  "language_info": {
   "codemirror_mode": {
    "name": "ipython",
    "version": 3
   },
   "file_extension": ".py",
   "mimetype": "text/x-python",
   "name": "python",
   "nbconvert_exporter": "python",
   "pygments_lexer": "ipython3",
   "version": "3.7.9"
  }
 },
 "nbformat": 4,
 "nbformat_minor": 4
}
